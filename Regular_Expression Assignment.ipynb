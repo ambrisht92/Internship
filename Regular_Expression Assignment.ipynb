{
 "cells": [
  {
   "cell_type": "code",
   "execution_count": 1,
   "id": "7cecbac3",
   "metadata": {},
   "outputs": [
    {
     "name": "stdout",
     "output_type": "stream",
     "text": [
      "Python:Exercises::PHP:exercises:\n"
     ]
    }
   ],
   "source": [
    "#Question 1- Write a Python program to replace all occurrences of a space, comma, or dot with a colon.\n",
    "#Sample Text- 'Python Exercises, PHP exercises.'\n",
    "#Expected Output: Python:Exercises::PHP:exercises:\n",
    "\n",
    "\n",
    "def replace(text):\n",
    "    occurences=[' ',',','.']\n",
    "    for i in occurences:\n",
    "        text=text.replace(i,':')\n",
    "    return text\n",
    "Text='Python Exercises, PHP exercises.'\n",
    "out=replace(Text)\n",
    "print(out)"
   ]
  },
  {
   "cell_type": "code",
   "execution_count": 2,
   "id": "2269b373",
   "metadata": {},
   "outputs": [
    {
     "name": "stdout",
     "output_type": "stream",
     "text": [
      "['and', 'elephants', 'eagerly', 'ate', 'apples']\n"
     ]
    }
   ],
   "source": [
    "#Write a Python program to find all words starting with 'a' or 'e' in a given string.\n",
    "#Sample String= 'Apples and elephants eagerly ate apples'\n",
    "\n",
    "import re\n",
    "text='Apples and elephants eagerly ate apples'\n",
    "word=re.findall(r'\\b[ae]\\w+',text)\n",
    "print(word)"
   ]
  },
  {
   "cell_type": "code",
   "execution_count": 3,
   "id": "e6d15855",
   "metadata": {},
   "outputs": [
    {
     "name": "stdout",
     "output_type": "stream",
     "text": [
      "['This', 'sample', 'sentence', 'with', 'some', 'long', 'words', 'like', 'elephant', 'computer']\n"
     ]
    }
   ],
   "source": [
    "#Question 3- Create a function in python to find all words that are at least 4 characters long in a string.\n",
    "#The use of the re.compile() method is mandatory.\n",
    "\n",
    "import re\n",
    "def word(text):\n",
    "    pattern=re.compile(r'\\b\\w{4,}\\b')\n",
    "    wrds=pattern.findall(text)\n",
    "    return wrds\n",
    "text='This is a sample sentence with some long words like elephant and computer.'\n",
    "out=word(text)\n",
    "print(out)"
   ]
  },
  {
   "cell_type": "code",
   "execution_count": 4,
   "id": "e74a64cc",
   "metadata": {},
   "outputs": [
    {
     "name": "stdout",
     "output_type": "stream",
     "text": [
      "['This', 'with', 'some', 'long', 'words', 'like', 'and']\n"
     ]
    }
   ],
   "source": [
    "#Question 4- Create a function in python to find all three, four, and five character words in a string. \n",
    "#The use of the re.compile() method is mandatory.\n",
    "\n",
    "import re\n",
    "def word(text):\n",
    "    pattern=re.compile(r'\\b\\w{3,5}\\b')\n",
    "    wrds=pattern.findall(text)\n",
    "    return wrds\n",
    "text='This is a sample sentence with some long words like elephant and computer.'\n",
    "out=word(text)\n",
    "print(out)\n"
   ]
  },
  {
   "cell_type": "code",
   "execution_count": 5,
   "id": "73632bd6",
   "metadata": {},
   "outputs": [
    {
     "name": "stdout",
     "output_type": "stream",
     "text": [
      "example .com\n",
      "hr@fliprobo .com\n",
      "github .com\n",
      "Hello Data Science World\n",
      "Data Scientist\n"
     ]
    }
   ],
   "source": [
    "#Question 5- Create a function in Python to remove the parenthesis in a list of strings. The use of the re.compile() method is mandatory.\n",
    "#Sample Text: [\"example (.com)\", \"hr@fliprobo (.com)\", \"github (.com)\", \"Hello (Data Science World)\", \"Data (Scientist)\"]\n",
    "\n",
    "import re\n",
    "def word(text):\n",
    "    pattern=re.compile(r'\\(|\\)')\n",
    "    wrds=[pattern.sub('',i) for i in lst]\n",
    "    return wrds\n",
    "lst=[\"example (.com)\", \"hr@fliprobo (.com)\", \"github (.com)\", \"Hello (Data Science World)\", \"Data (Scientist)\"]\n",
    "out=word(lst)\n",
    "for i in out:\n",
    "    print(i)\n",
    "\n"
   ]
  },
  {
   "cell_type": "code",
   "execution_count": 6,
   "id": "c399b312",
   "metadata": {},
   "outputs": [
    {
     "name": "stdout",
     "output_type": "stream",
     "text": [
      "['example ', 'hr@fliprobo ', 'github ', 'Hello ', 'Data ']\n"
     ]
    }
   ],
   "source": [
    "#Question 6- Write a python program to remove the parenthesis area from the text stored in the text file using Regular Expression.\n",
    "#Sample Text: [\"example (.com)\", \"hr@fliprobo (.com)\", \"github (.com)\", \"Hello (Data Science World)\", \"Data (Scientist)\"]\n",
    "#Expected Output: [\"example\", \"hr@fliprobo\", \"github\", \"Hello\", \"Data\"]\n",
    "#Note- Store given sample text in the text file and then to remove the parenthesis area from the text.\n",
    "\n",
    "import re\n",
    "def word(text):\n",
    "    pattern=re.compile(r'\\([^)]*\\)')\n",
    "    wrds=[pattern.sub('',i) for i in lst]\n",
    "    return wrds\n",
    "lst=[\"example (.com)\", \"hr@fliprobo (.com)\", \"github (.com)\", \"Hello (Data Science World)\", \"Data (Scientist)\"]\n",
    "out=word(lst)\n",
    "print(out)\n"
   ]
  },
  {
   "cell_type": "code",
   "execution_count": 7,
   "id": "ccabe858",
   "metadata": {},
   "outputs": [
    {
     "name": "stdout",
     "output_type": "stream",
     "text": [
      "['Importance', 'Of', 'Regular', 'Expressions', 'In', 'Python']\n"
     ]
    }
   ],
   "source": [
    "#Question 7- Write a regular expression in Python to split a string into uppercase letters.\n",
    "#Sample text: “ImportanceOfRegularExpressionsInPython”\n",
    "#Expected Output: [‘Importance’, ‘Of’, ‘Regular’, ‘Expression’, ‘In’, ‘Python’]\n",
    "\n",
    "import re\n",
    "text=\"ImportanceOfRegularExpressionsInPython\"\n",
    "word=re.findall(r'[A-Z][a-z]*',text)\n",
    "print(word)\n"
   ]
  },
  {
   "cell_type": "code",
   "execution_count": 8,
   "id": "69358555",
   "metadata": {},
   "outputs": [
    {
     "name": "stdout",
     "output_type": "stream",
     "text": [
      "RegularExpression 1IsAn 2ImportantTopic 3InPython\n"
     ]
    }
   ],
   "source": [
    "#Question 8- Create a function in python to insert spaces between words starting with numbers.\n",
    "#Sample Text: “RegularExpression1IsAn2ImportantTopic3InPython\"\n",
    "#Expected Output: RegularExpression 1IsAn 2ImportantTopic 3InPython\n",
    "\n",
    "import re\n",
    "def func(text):\n",
    "    word=re.findall(r'[A-Z0-9][a-zA-Z]*',text)\n",
    "    return word\n",
    "Text='RegularExpression1IsAn2ImportantTopic3InPython'\n",
    "out=func(Text)\n",
    "print(*out)"
   ]
  },
  {
   "cell_type": "code",
   "execution_count": 9,
   "id": "0f5cf25e",
   "metadata": {},
   "outputs": [
    {
     "name": "stdout",
     "output_type": "stream",
     "text": [
      "Regular Expression 1 Is An 2 Important Topic 3 In Python\n"
     ]
    }
   ],
   "source": [
    "#Question 9- Create a function in python to insert spaces between words starting with capital letters or with numbers.\n",
    "#Sample Text: “RegularExpression1IsAn2ImportantTopic3InPython\"\n",
    "#Expected Output:  Regular Expression 1 Is An 2 Important Topic 3 In Python\n",
    "\n",
    "import re\n",
    "def func(text):\n",
    "    word=re.sub(r'(?<=[a-z0-9])(?=[A-Z0-9])',' ',text)\n",
    "    return word\n",
    "Text='RegularExpression1IsAn2ImportantTopic3InPython'\n",
    "out=func(Text)\n",
    "print(out)\n"
   ]
  },
  {
   "cell_type": "code",
   "execution_count": 10,
   "id": "357c17a5",
   "metadata": {},
   "outputs": [
    {
     "name": "stdout",
     "output_type": "stream",
     "text": [
      "xyz@domain.com\n",
      "xyz.abc@sdomain.domain.com.Please\n",
      "hr@fliprobo.com\n"
     ]
    }
   ],
   "source": [
    "#Question 10- Write a python program to extract email address from the text stored in the text file using Regular Expression.\n",
    "#Sample Text- Hello my name is Data Science and my email address is xyz@domain.com and alternate email address is xyz.abc@sdomain.domain.com. \n",
    "#Please contact us at hr@fliprobo.com for further information. \n",
    "#Expected Output: ['xyz@domain.com', 'xyz.abc@sdomain.domain.com'] ['hr@fliprobo.com']\n",
    "\n",
    "import re\n",
    "\n",
    "def extract(text):\n",
    "    pattern = r'\\b[A-Za-z0-9._%+-]+@[A-Za-z0-9.-]+\\.[A-Z|a-z]{2,7}\\b'\n",
    "    emails = re.findall(pattern, text, re.IGNORECASE)\n",
    "    return emails\n",
    "\n",
    "Text= 'Hello my name is Data Science and my email address is xyz@domain.com and alternate email address is xyz.abc@sdomain.domain.com.Please contact us at hr@fliprobo.com for further information.'\n",
    "   \n",
    "\n",
    "#with open(file_path, 'r') as file:\n",
    "#    content = file.read()\n",
    "\n",
    "email_addresses = extract(Text)\n",
    "\n",
    "for email in email_addresses:\n",
    "    print(email)\n"
   ]
  },
  {
   "cell_type": "code",
   "execution_count": 11,
   "id": "70fa6588",
   "metadata": {},
   "outputs": [
    {
     "name": "stdout",
     "output_type": "stream",
     "text": [
      "'ValidString_123' is valid.\n",
      "'Invalid String' is not valid.\n",
      "'Another_Valid123' is valid.\n",
      "'Invalid-String' is not valid.\n"
     ]
    }
   ],
   "source": [
    "#Question 11- Write a Python program to match a string that contains only upper and lowercase letters, numbers, and underscores.\n",
    "\n",
    "import re\n",
    "\n",
    "test_strings = [\n",
    "    \"ValidString_123\",\n",
    "    \"Invalid String\",\n",
    "    \"Another_Valid123\",\n",
    "    \"Invalid-String\"\n",
    "]\n",
    "\n",
    "pattern = re.compile(r'^[a-zA-Z0-9_]+$')\n",
    "\n",
    "for string in test_strings:\n",
    "    if pattern.match(string):\n",
    "        print(f\"'{string}' is valid.\")\n",
    "    else:\n",
    "        print(f\"'{string}' is not valid.\")"
   ]
  },
  {
   "cell_type": "code",
   "execution_count": 12,
   "id": "0fa5dda4",
   "metadata": {},
   "outputs": [
    {
     "name": "stdout",
     "output_type": "stream",
     "text": [
      "'23ValidString' is start with specific number\n",
      "'Invalid String' is not start with specific number\n",
      "'34Another_Valid' is start with specific number\n",
      "'Invalid-String' is not start with specific number\n"
     ]
    }
   ],
   "source": [
    "#Question 12- Write a Python program where a string will start with a specific number. \n",
    "\n",
    "import re\n",
    "\n",
    "test_strings = [\n",
    "    \"23ValidString\",\n",
    "    \"Invalid String\",\n",
    "    \"34Another_Valid\",\n",
    "    \"Invalid-String\"\n",
    "]\n",
    "\n",
    "pattern=re.compile(r'^[0-9]')\n",
    "for string in test_strings:\n",
    "    if pattern.match(string):\n",
    "        print(f\"'{string}' is start with specific number\")\n",
    "    else:\n",
    "        print(f\"'{string}' is not start with specific number\")"
   ]
  },
  {
   "cell_type": "code",
   "execution_count": 13,
   "id": "691f4d56",
   "metadata": {},
   "outputs": [
    {
     "name": "stdout",
     "output_type": "stream",
     "text": [
      "192.168.1.10\n"
     ]
    }
   ],
   "source": [
    "#Question 13- Write a Python program to remove leading zeros from an IP address\n",
    "\n",
    "def remove(ip_address):\n",
    "    parts = ip_address.split('.')\n",
    "    cleaned_parts = [str(int(part)) for part in parts]\n",
    "    cleaned_ip = '.'.join(cleaned_parts)\n",
    "    return cleaned_ip\n",
    "\n",
    "ip_address = \"192.168.001.010\"\n",
    "new_ip_address = remove(ip_address)\n",
    "print(new_ip_address)"
   ]
  },
  {
   "cell_type": "code",
   "execution_count": 14,
   "id": "46436cc4",
   "metadata": {},
   "outputs": [
    {
     "name": "stdout",
     "output_type": "stream",
     "text": [
      "August 15th 1947\n"
     ]
    }
   ],
   "source": [
    "#Question 14- Write a regular expression in python to match a date string in the form of Month name followed by day number and year stored in a text file.\n",
    "#Sample text :'On August 15th 1947 that India was declared independent from British colonialism, and the reins of control were handed over to the leaders of the Country’.\n",
    "#Expected Output- August 15th 1947\n",
    "\n",
    "import re\n",
    "\n",
    "text='On August 15th 1947 that India was declared independent from British colonialism, and the reins of control were handed over to the leaders of the Country.'\n",
    "\n",
    "pattern = re.compile(r'\\b(?:January|February|March|April|May|June|July|August|September|October|November|December)\\s+\\d{1,2}(?:st|nd|rd|th)?\\s+\\d{4}\\b')\n",
    "\n",
    "dates=pattern.findall(text)\n",
    "\n",
    "#with open('sample.txt', 'r') as file:\n",
    "#    content = file.read()\n",
    "#   dates = pattern.findall(content)\n",
    "\n",
    "for date in dates:\n",
    "    print(date)\n"
   ]
  },
  {
   "cell_type": "code",
   "execution_count": 15,
   "id": "e4333bcb",
   "metadata": {},
   "outputs": [
    {
     "name": "stdout",
     "output_type": "stream",
     "text": [
      "fox dog\n"
     ]
    }
   ],
   "source": [
    "#Question 15- Write a Python program to search some literals strings in a string. \n",
    "#Sample text : 'The quick brown fox jumps over the lazy dog.'\n",
    "#Searched words : 'fox', 'dog', 'horse'\n",
    "\n",
    "import re\n",
    "def search(text):\n",
    "    word=['fox','dog','horse']\n",
    "    searched=[]\n",
    "    for i in word:\n",
    "        searched+=re.findall(i,text)\n",
    "    return searched\n",
    "Text='The quick brown fox jumps over the lazy dog.'\n",
    "out=search(Text)\n",
    "print(*out)\n"
   ]
  },
  {
   "cell_type": "code",
   "execution_count": 16,
   "id": "9825fc5a",
   "metadata": {},
   "outputs": [
    {
     "name": "stdout",
     "output_type": "stream",
     "text": [
      "fox\n",
      "16\n"
     ]
    }
   ],
   "source": [
    "#Question 16- Write a Python program to search a literals string in a string and also find the location within the original string where the pattern occurs\n",
    "#Sample text : 'The quick brown fox jumps over the lazy dog.'\n",
    "#Searched words : 'fox'\n",
    "import re\n",
    "def search(text):\n",
    "    word=['fox']\n",
    "    searched=[]\n",
    "    for i in word:\n",
    "        searched+=re.findall(i,text)\n",
    "    return searched\n",
    "def search_loc(text,word):\n",
    "    found_locations = []\n",
    "    index = text.find(word)\n",
    "    while index != -1:\n",
    "        found_locations.append(index)\n",
    "        index = text.find(word, index + 1)\n",
    "    return found_locations\n",
    "Text='The quick brown fox jumps over the lazy dog.'\n",
    "out=search(Text)\n",
    "print(*out)\n",
    "\n",
    "word='fox'\n",
    "out1=search_loc(Text,word)\n",
    "print(*out1)\n",
    "\n"
   ]
  },
  {
   "cell_type": "code",
   "execution_count": 17,
   "id": "79ac5f84",
   "metadata": {},
   "outputs": [
    {
     "name": "stdout",
     "output_type": "stream",
     "text": [
      "['exercises', 'exercises', 'exercises']\n"
     ]
    }
   ],
   "source": [
    "#Question 17- Write a Python program to find the substrings within a string.\n",
    "#Sample text : 'Python exercises, PHP exercises, C# exercises'\n",
    "#Pattern : 'exercises'.\n",
    "\n",
    "import re\n",
    "def find_substrings(text, pattern):\n",
    "    found_substrings=re.findall(pattern,text)\n",
    "    return found_substrings\n",
    "sample_text = 'Python exercises, PHP exercises, C# exercises'\n",
    "pattern = 'exercises'\n",
    "found_substrings = find_substrings(sample_text, pattern)\n",
    "print(found_substrings)\n"
   ]
  },
  {
   "cell_type": "code",
   "execution_count": 18,
   "id": "c7b97247",
   "metadata": {},
   "outputs": [
    {
     "name": "stdout",
     "output_type": "stream",
     "text": [
      "The pattern 'exercises' is found at the following positions:\n",
      "7\n",
      "22\n",
      "36\n"
     ]
    }
   ],
   "source": [
    "#Question 18- Write a Python program to find the occurrence and position of the substrings within a string.\n",
    "import re\n",
    "def find_substrings(text, pattern):\n",
    "    found_substrings = [match.start() for match in re.finditer(pattern, text)]\n",
    "    return found_substrings\n",
    "sample_text = 'Python exercises, PHP exercises, C# exercises'\n",
    "pattern = 'exercises'\n",
    "found_substrings = find_substrings(sample_text, pattern)\n",
    "print(f\"The pattern '{pattern}' is found at the following positions:\")\n",
    "for position in found_substrings:\n",
    "    print(position)\n"
   ]
  },
  {
   "cell_type": "code",
   "execution_count": 19,
   "id": "1b3dba2e",
   "metadata": {},
   "outputs": [
    {
     "name": "stdout",
     "output_type": "stream",
     "text": [
      "Converted date: 10-08-2023\n"
     ]
    }
   ],
   "source": [
    "#Question 19- Write a Python program to convert a date of yyyy-mm-dd format to dd-mm-yyyy format.\n",
    "\n",
    "def convert_date(date):\n",
    "    parts = date.split('-')\n",
    "    if len(parts) == 3:\n",
    "        year, month, day = parts\n",
    "        converted_date = f'{day}-{month}-{year}'\n",
    "        return converted_date\n",
    "    else:\n",
    "        return \"Invalid date format\"\n",
    "\n",
    "input_date = \"2023-08-10\"\n",
    "converted_date = convert_date(input_date)\n",
    "print(f\"Converted date: {converted_date}\")"
   ]
  },
  {
   "cell_type": "code",
   "execution_count": 20,
   "id": "d35a985b",
   "metadata": {},
   "outputs": [
    {
     "name": "stdout",
     "output_type": "stream",
     "text": [
      ".34\n",
      ".5\n",
      ".90\n"
     ]
    }
   ],
   "source": [
    "#Question 20- Create a function in python to find all decimal numbers with a precision of 1 or 2 in a string. \n",
    "#The use of the re.compile() method is mandatory.\n",
    "import re\n",
    "\n",
    "def find_number(text):\n",
    "    pattern = re.compile(r'\\b\\d+(\\.\\d{1,2})?\\b')\n",
    "    decimal_numbers = pattern.findall(text)\n",
    "    return decimal_numbers\n",
    "\n",
    "Text = \"The prices are $12.34, $3.5, and $78.90.\"\n",
    "decimal_number = find_number(Text)\n",
    "\n",
    "for number in decimal_number:\n",
    "    print(number)"
   ]
  },
  {
   "cell_type": "code",
   "execution_count": 21,
   "id": "10938bfd",
   "metadata": {},
   "outputs": [
    {
     "name": "stdout",
     "output_type": "stream",
     "text": [
      "Numbers: ['4', '1']\n",
      "Positions: [19, 48]\n"
     ]
    }
   ],
   "source": [
    "#Question 21- Write a Python program to separate and print the numbers and their position of a given string.\n",
    "\n",
    "def func(text):\n",
    "    number = []\n",
    "    position = []\n",
    "\n",
    "    for index, char in enumerate(text):\n",
    "        if char.isdigit():\n",
    "            number.append(char)\n",
    "            position.append(index)\n",
    "\n",
    "    return number, position\n",
    "\n",
    "sample_text = \"The mango price is 4 rupees and the quantity is 1 kg.\"\n",
    "number, position = func(sample_text)\n",
    "\n",
    "print(\"Numbers:\", number)\n",
    "print(\"Positions:\", position)\n"
   ]
  },
  {
   "cell_type": "code",
   "execution_count": 22,
   "id": "566b8835",
   "metadata": {},
   "outputs": [
    {
     "name": "stdout",
     "output_type": "stream",
     "text": [
      "950\n"
     ]
    }
   ],
   "source": [
    "#Question 22- Write a regular expression in python program to extract maximum/largest numeric value from a string.\n",
    "#Sample Text:  'My marks in each semester are: 947, 896, 926, 524, 734, 950, 642'\n",
    "#Expected Output: 950\n",
    "\n",
    "import re\n",
    "\n",
    "def max_num(text):\n",
    "    numbers = re.findall(r'\\d+', text)\n",
    "    if numbers:\n",
    "        max_number = max(map(int, numbers))\n",
    "        return max_number\n",
    "    else:\n",
    "        return None\n",
    "\n",
    "sample_text = 'My marks in each semester are: 947, 896, 926, 524, 734, 950, 642'\n",
    "max_numeric_value = max_num(sample_text)\n",
    "print(max_numeric_value)\n",
    "\n"
   ]
  },
  {
   "cell_type": "code",
   "execution_count": 23,
   "id": "a48446d2",
   "metadata": {},
   "outputs": [
    {
     "name": "stdout",
     "output_type": "stream",
     "text": [
      "Regular Expression Is An Important Topic In Python\n"
     ]
    }
   ],
   "source": [
    "#Question 23- Create a function in python to insert spaces between words starting with capital letters.\n",
    "#Sample Text: “RegularExpressionIsAnImportantTopicInPython\"\n",
    "#Expected Output: Regular Expression Is An Important Topic In Python\n",
    "\n",
    "import re\n",
    "def func(text):\n",
    "    word=re.findall(r'[A-Z][a-z]*',text)\n",
    "    return word\n",
    "Text='RegularExpression1IsAn2ImportantTopic3InPython'\n",
    "out=func(Text)\n",
    "print(*out)\n"
   ]
  },
  {
   "cell_type": "code",
   "execution_count": 24,
   "id": "11393110",
   "metadata": {},
   "outputs": [
    {
     "name": "stdout",
     "output_type": "stream",
     "text": [
      "['This', 'Test', 'Sentence', 'Multiple', 'Matches', 'This', 'One']\n"
     ]
    }
   ],
   "source": [
    "#Question 24- Python regex to find sequences of one upper case letter followed by lower case letters\n",
    "\n",
    "import re\n",
    "pattern = r'[A-Z][a-z]+'\n",
    "text = \"This is a TestSentence with MultipleMatches like ThisOne.\"\n",
    "matches = re.findall(pattern, text)\n",
    "print(matches)"
   ]
  },
  {
   "cell_type": "code",
   "execution_count": 25,
   "id": "70859671",
   "metadata": {},
   "outputs": [
    {
     "name": "stdout",
     "output_type": "stream",
     "text": [
      "Hello hello world\n"
     ]
    }
   ],
   "source": [
    "#Question 25- Write a Python program to remove continuous duplicate words from Sentence using Regular Expression.\n",
    "#Sample Text: \"Hello hello world world\"\n",
    "#Expected Output: Hello hello world\n",
    "\n",
    "import re\n",
    "def remove_duplicates(sentence):\n",
    "    pattern = r'\\b(\\w+)\\s+\\1\\b'\n",
    "    replaced_sentence = re.sub(pattern, r'\\1', sentence)\n",
    "    return replaced_sentence\n",
    "\n",
    "sample_text = \"Hello hello world world\"\n",
    "output = remove_duplicates(sample_text)\n",
    "print(output)"
   ]
  },
  {
   "cell_type": "code",
   "execution_count": 26,
   "id": "f0e24a5d",
   "metadata": {},
   "outputs": [
    {
     "name": "stdout",
     "output_type": "stream",
     "text": [
      "abhay12 good7\n"
     ]
    }
   ],
   "source": [
    "#Question 26-  Write a python program using RegEx to accept string ending with alphanumeric character.\n",
    "\n",
    "import re\n",
    "\n",
    "def func(input_string):\n",
    "    pattern = r'\\w*[0-9]\\b'\n",
    "    matches = re.findall(pattern, input_string)\n",
    "    return matches\n",
    "\n",
    "sample_input = 'abhay12 is a good7 boy'\n",
    "output = func(sample_input)\n",
    "print(*output)"
   ]
  },
  {
   "cell_type": "code",
   "execution_count": 27,
   "id": "8935896c",
   "metadata": {},
   "outputs": [
    {
     "name": "stdout",
     "output_type": "stream",
     "text": [
      "['#Doltiwal', '#xyzabc', '#Demonetization']\n"
     ]
    }
   ],
   "source": [
    "#Question 27-Write a python program using RegEx to extract the hashtags.\n",
    "#Sample Text:  \"\"\"RT @kapil_kausik: #Doltiwal I mean #xyzabc is \"hurt\" by #Demonetization as the same has rendered USELESS <ed><U+00A0><U+00BD><ed><U+00B1><U+0089> \"acquired funds\" No wo\"\"\"\n",
    "#Expected Output: ['#Doltiwal', '#xyzabc', '#Demonetization']\n",
    "\n",
    "import re\n",
    "def func(text):\n",
    "    pattern=r'#\\w+'\n",
    "    word=re.findall(pattern,text)\n",
    "    return word\n",
    "Text='RT @kapil_kausik: #Doltiwal I mean #xyzabc is hurt by #Demonetization as the same has rendered USELESS <ed><U+00A0><U+00BD><ed><U+00B1><U+0089> acquired funds No wo'\n",
    "out=func(Text)\n",
    "print(out)"
   ]
  },
  {
   "cell_type": "code",
   "execution_count": 28,
   "id": "7d882200",
   "metadata": {},
   "outputs": [
    {
     "name": "stdout",
     "output_type": "stream",
     "text": [
      "@Jags123456 Bharat band on 28??<ed><ed>Those who  are protesting #demonetization  are all different party leaders\n"
     ]
    }
   ],
   "source": [
    "#Question 28- Write a python program using RegEx to remove <U+..> like symbols\n",
    "#Sample Text: \"@Jags123456 Bharat band on 28??<ed><U+00A0><U+00BD><ed><U+00B8><U+0082>Those who  are protesting #demonetization  are all different party leaders\"\n",
    "#Expected Output: @Jags123456 Bharat band on 28??<ed><ed>Those who  are protesting #demonetization  are all different party leaders\n",
    "\n",
    "import re\n",
    "\n",
    "def func(input_text):\n",
    "    pattern = r'<U\\+\\w+>'\n",
    "    cleaned_text = re.sub(pattern, '', input_text)\n",
    "    return cleaned_text\n",
    "\n",
    "Text = \"@Jags123456 Bharat band on 28??<ed><U+00A0><U+00BD><ed><U+00B8><U+0082>Those who  are protesting #demonetization  are all different party leaders\"\n",
    "output = func(Text)\n",
    "print(output)\n"
   ]
  },
  {
   "cell_type": "code",
   "execution_count": 29,
   "id": "1279c1b8",
   "metadata": {},
   "outputs": [
    {
     "name": "stdout",
     "output_type": "stream",
     "text": [
      "['12-09-1992', '15-12-1999']\n"
     ]
    }
   ],
   "source": [
    "#Question 29- Write a python program to extract dates from the text stored in the text file.\n",
    "#Sample Text: Ron was born on 12-09-1992 and he was admitted to school 15-12-1999.\n",
    "\n",
    "import re\n",
    "\n",
    "def func(text):\n",
    "    pattern = r'\\d{2}-\\d{2}-\\d{4}'\n",
    "    date = re.findall(pattern,text)\n",
    "    return date\n",
    "\n",
    "Text='Ron was born on 12-09-1992 and he was admitted to school 15-12-1999.'\n",
    "output = func(Text)\n",
    "print(output)\n",
    "\n"
   ]
  },
  {
   "cell_type": "code",
   "execution_count": 30,
   "id": "8ecde37b",
   "metadata": {},
   "outputs": [
    {
     "name": "stdout",
     "output_type": "stream",
     "text": [
      " following example creates  ArrayList  a capacity   elements. 4 elements   added   ArrayList   ArrayList  trimmed accordingly.\n"
     ]
    }
   ],
   "source": [
    "#Question 30- Create a function in python to remove all words from a string of length between 2 and 4.\n",
    "#The use of the re.compile() method is mandatory.\n",
    "#Sample Text: \"The following example creates an ArrayList with a capacity of 50 elements. 4 elements are then added to the ArrayList and the ArrayList is trimmed accordingly.\"\n",
    "#Expected Output:  following example creates ArrayList a capacity elements. 4 elements added ArrayList ArrayList trimmed accordingly.\n",
    "\n",
    "\n",
    "import re\n",
    "\n",
    "def func(text):\n",
    "    pattern = re.compile(r'\\b\\w{2,4}\\b')\n",
    "    cleaned_text = pattern.sub('', text)\n",
    "    return cleaned_text\n",
    "\n",
    "Text = \"The following example creates an ArrayList with a capacity of 50 elements. 4 elements are then added to the ArrayList and the ArrayList is trimmed accordingly.\"\n",
    "output = func(Text)\n",
    "print(output)"
   ]
  },
  {
   "cell_type": "code",
   "execution_count": null,
   "id": "6aba7369",
   "metadata": {},
   "outputs": [],
   "source": []
  }
 ],
 "metadata": {
  "kernelspec": {
   "display_name": "Python 3 (ipykernel)",
   "language": "python",
   "name": "python3"
  },
  "language_info": {
   "codemirror_mode": {
    "name": "ipython",
    "version": 3
   },
   "file_extension": ".py",
   "mimetype": "text/x-python",
   "name": "python",
   "nbconvert_exporter": "python",
   "pygments_lexer": "ipython3",
   "version": "3.9.13"
  }
 },
 "nbformat": 4,
 "nbformat_minor": 5
}
