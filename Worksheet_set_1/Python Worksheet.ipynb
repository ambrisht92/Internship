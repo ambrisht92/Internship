{
 "cells": [
  {
   "cell_type": "code",
   "execution_count": 3,
   "id": "379a3513",
   "metadata": {},
   "outputs": [
    {
     "name": "stdout",
     "output_type": "stream",
     "text": [
      "120\n"
     ]
    }
   ],
   "source": [
    "#Q11:Write a python program to find the factorial of a number.\n",
    "\n",
    "def fact(n):\n",
    "    if (n==1 or n==0):\n",
    "        return 1\n",
    "    else:\n",
    "        return n*fact(n-1)\n",
    "    \n",
    "a=fact(5)\n",
    "print(a)\n"
   ]
  },
  {
   "cell_type": "code",
   "execution_count": 11,
   "id": "639eaf89",
   "metadata": {},
   "outputs": [
    {
     "name": "stdout",
     "output_type": "stream",
     "text": [
      "Enter a number: 10\n",
      "10 is a composite number with divisors: [1, 2, 5]\n"
     ]
    }
   ],
   "source": [
    "#Q12: Write a python program to find whether a number is prime or composite.\n",
    "\n",
    "def classify_number(n):\n",
    "    divisors = []\n",
    "    for i in range(1, n):\n",
    "        if n % i == 0:\n",
    "            divisors.append(i)\n",
    "    return divisors\n",
    "\n",
    "num = int(input(\"Enter a number: \"))\n",
    "divisors_list = classify_number(num)\n",
    "\n",
    "if len(divisors_list) == 1:\n",
    "    print(f\"{num} is a prime number.\")\n",
    "else:\n",
    "    print(f\"{num} is a composite number with divisors: {divisors_list}\")"
   ]
  },
  {
   "cell_type": "code",
   "execution_count": 13,
   "id": "24fc33b1",
   "metadata": {},
   "outputs": [
    {
     "name": "stdout",
     "output_type": "stream",
     "text": [
      "Enter a string: abcba\n",
      "'abcba' is a palindrome.\n"
     ]
    }
   ],
   "source": [
    "#Q13: Write a python program to check whether a given string is palindrome or not.\n",
    "\n",
    "def is_palindrome(s        ):\n",
    "    s = s.lower()\n",
    "    s = ''.join(ch for ch in s if ch.isalnum())\n",
    "    return s == s[::-1] \n",
    "string = input(\"Enter a string: \")\n",
    "if is_palindrome(string):\n",
    "    print(f\"'{string}' is a palindrome.\")\n",
    "else:\n",
    "    print(f\"'{string}' is not a palindrome.\")"
   ]
  },
  {
   "cell_type": "code",
   "execution_count": 14,
   "id": "3ef872f8",
   "metadata": {},
   "outputs": [
    {
     "name": "stdout",
     "output_type": "stream",
     "text": [
      "Enter the length of the first side: 3\n",
      "Enter the length of the second side: 4\n",
      "The length of the third side is: 5.00\n"
     ]
    }
   ],
   "source": [
    "#Q14: Write a Python program to get the third side of right-angled triangle from two given sides\n",
    "\n",
    "def calculate_third_side(side1, side2):\n",
    "    third_side = (side1 ** 2 + side2 ** 2) ** 0.5\n",
    "    return third_side\n",
    "side1 = float(input(\"Enter the length of the first side: \"))\n",
    "side2 = float(input(\"Enter the length of the second side: \"))\n",
    "third_side = calculate_third_side(side1, side2)\n",
    "print(f\"The length of the third side is: {third_side:.2f}\")"
   ]
  },
  {
   "cell_type": "code",
   "execution_count": 15,
   "id": "5de93ad7",
   "metadata": {},
   "outputs": [
    {
     "name": "stdout",
     "output_type": "stream",
     "text": [
      "Enter a string: avsvdbvscab\n",
      "Character frequency:\n",
      "'a': 2\n",
      "'v': 3\n",
      "'s': 2\n",
      "'d': 1\n",
      "'b': 2\n",
      "'c': 1\n"
     ]
    }
   ],
   "source": [
    "#Q15: Write a python program to print the frequency of each of the characters present in a given string.\n",
    "\n",
    "def character_frequency(string):\n",
    "    frequency = {}\n",
    "    for char in string:\n",
    "        if char in frequency:\n",
    "            frequency[char] += 1\n",
    "        else:\n",
    "            frequency[char] = 1\n",
    "    return frequency\n",
    "string = input(\"Enter a string: \")\n",
    "freq_dict = character_frequency(string)\n",
    "print(\"Character frequency:\")\n",
    "for char, count in freq_dict.items():\n",
    "    print(f\"'{char}': {count}\")\n"
   ]
  },
  {
   "cell_type": "code",
   "execution_count": null,
   "id": "6b17367b",
   "metadata": {},
   "outputs": [],
   "source": []
  }
 ],
 "metadata": {
  "kernelspec": {
   "display_name": "Python 3 (ipykernel)",
   "language": "python",
   "name": "python3"
  },
  "language_info": {
   "codemirror_mode": {
    "name": "ipython",
    "version": 3
   },
   "file_extension": ".py",
   "mimetype": "text/x-python",
   "name": "python",
   "nbconvert_exporter": "python",
   "pygments_lexer": "ipython3",
   "version": "3.9.13"
  }
 },
 "nbformat": 4,
 "nbformat_minor": 5
}
